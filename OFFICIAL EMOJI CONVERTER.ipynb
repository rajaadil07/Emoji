{
 "cells": [
  {
   "cell_type": "code",
   "execution_count": 16,
   "metadata": {},
   "outputs": [
    {
     "name": "stdout",
     "output_type": "stream",
     "text": [
      ">i am :) now i am :( now i am :)\n",
      "I am 😃 now i am 😣 now i am 😃\n"
     ]
    }
   ],
   "source": [
    "emojis = {\n",
    "    ':(':'😣',\n",
    "    ':)':'😃',\n",
    "}\n",
    "expression = input(\">\")\n",
    "for key, value in emojis.items():\n",
    "    if key in expression:\n",
    "        expression = expression.replace(key, value)\n",
    "print(f\"{expression.capitalize()}\")"
   ]
  }
 ],
 "metadata": {
  "kernelspec": {
   "display_name": "Python 3",
   "language": "python",
   "name": "python3"
  },
  "language_info": {
   "codemirror_mode": {
    "name": "ipython",
    "version": 3
   },
   "file_extension": ".py",
   "mimetype": "text/x-python",
   "name": "python",
   "nbconvert_exporter": "python",
   "pygments_lexer": "ipython3",
   "version": "3.7.7"
  }
 },
 "nbformat": 4,
 "nbformat_minor": 4
}
